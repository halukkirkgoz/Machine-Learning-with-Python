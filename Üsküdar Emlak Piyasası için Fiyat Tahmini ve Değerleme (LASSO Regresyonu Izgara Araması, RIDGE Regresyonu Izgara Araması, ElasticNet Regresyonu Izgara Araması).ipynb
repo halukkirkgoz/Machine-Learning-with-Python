{
 "cells": [
  {
   "cell_type": "code",
   "execution_count": 1,
   "id": "77996b98",
   "metadata": {},
   "outputs": [],
   "source": [
    "# Gerekli kütüphaneleri ekleme:\n",
    "import pandas as pd\n",
    "import numpy as np\n",
    "import matplotlib.pyplot as plt\n",
    "%matplotlib inline\n",
    "import warnings\n",
    "warnings.filterwarnings(\"ignore\")"
   ]
  },
  {
   "cell_type": "code",
   "execution_count": 2,
   "id": "4b21e321",
   "metadata": {},
   "outputs": [],
   "source": [
    "# Veri setini indirip ekleme:\n",
    "data = pd.read_excel(\"https://www.dropbox.com/s/luoopt5biecb04g/SATILIK_EV1.xlsx?dl=1\")"
   ]
  },
  {
   "cell_type": "code",
   "execution_count": 3,
   "id": "650e0a3a",
   "metadata": {},
   "outputs": [
    {
     "data": {
      "text/html": [
       "<div>\n",
       "<style scoped>\n",
       "    .dataframe tbody tr th:only-of-type {\n",
       "        vertical-align: middle;\n",
       "    }\n",
       "\n",
       "    .dataframe tbody tr th {\n",
       "        vertical-align: top;\n",
       "    }\n",
       "\n",
       "    .dataframe thead th {\n",
       "        text-align: right;\n",
       "    }\n",
       "</style>\n",
       "<table border=\"1\" class=\"dataframe\">\n",
       "  <thead>\n",
       "    <tr style=\"text-align: right;\">\n",
       "      <th></th>\n",
       "      <th>Unnamed: 0</th>\n",
       "      <th>Fiyat</th>\n",
       "      <th>Oda_Sayısı</th>\n",
       "      <th>Net_m2</th>\n",
       "      <th>Katı</th>\n",
       "      <th>Yaşı</th>\n",
       "    </tr>\n",
       "  </thead>\n",
       "  <tbody>\n",
       "    <tr>\n",
       "      <th>0</th>\n",
       "      <td>0</td>\n",
       "      <td>475</td>\n",
       "      <td>1</td>\n",
       "      <td>40</td>\n",
       "      <td>0</td>\n",
       "      <td>6</td>\n",
       "    </tr>\n",
       "    <tr>\n",
       "      <th>1</th>\n",
       "      <td>1</td>\n",
       "      <td>475</td>\n",
       "      <td>1</td>\n",
       "      <td>55</td>\n",
       "      <td>0</td>\n",
       "      <td>5</td>\n",
       "    </tr>\n",
       "    <tr>\n",
       "      <th>2</th>\n",
       "      <td>2</td>\n",
       "      <td>450</td>\n",
       "      <td>1</td>\n",
       "      <td>50</td>\n",
       "      <td>0</td>\n",
       "      <td>7</td>\n",
       "    </tr>\n",
       "    <tr>\n",
       "      <th>3</th>\n",
       "      <td>3</td>\n",
       "      <td>450</td>\n",
       "      <td>1</td>\n",
       "      <td>55</td>\n",
       "      <td>1</td>\n",
       "      <td>6</td>\n",
       "    </tr>\n",
       "    <tr>\n",
       "      <th>4</th>\n",
       "      <td>4</td>\n",
       "      <td>475</td>\n",
       "      <td>1</td>\n",
       "      <td>45</td>\n",
       "      <td>2</td>\n",
       "      <td>7</td>\n",
       "    </tr>\n",
       "  </tbody>\n",
       "</table>\n",
       "</div>"
      ],
      "text/plain": [
       "   Unnamed: 0  Fiyat  Oda_Sayısı  Net_m2  Katı  Yaşı\n",
       "0           0    475           1      40     0     6\n",
       "1           1    475           1      55     0     5\n",
       "2           2    450           1      50     0     7\n",
       "3           3    450           1      55     1     6\n",
       "4           4    475           1      45     2     7"
      ]
     },
     "execution_count": 3,
     "metadata": {},
     "output_type": "execute_result"
    }
   ],
   "source": [
    "# Veri setinin ilk 5 elemanını ekranda görüntüleme:\n",
    "data.head()"
   ]
  },
  {
   "cell_type": "code",
   "execution_count": 4,
   "id": "9db981ed",
   "metadata": {},
   "outputs": [],
   "source": [
    "# Hedef ve öznitelik değişkenlerini tanımlama:\n",
    "X = data[[\"Oda_Sayısı\", \"Net_m2\", \"Katı\", \"Yaşı\"]]\n",
    "y = data[\"Fiyat\"]"
   ]
  },
  {
   "cell_type": "code",
   "execution_count": 5,
   "id": "4d702377",
   "metadata": {},
   "outputs": [],
   "source": [
    "# Veri setini rassal olarak eğitim ve test veri seti şeklinde ikiye bölümleme:\n",
    "from sklearn.model_selection import train_test_split\n",
    "X_train, X_test, y_train, y_test = train_test_split(X, y, test_size=0.2, random_state=42)"
   ]
  },
  {
   "cell_type": "code",
   "execution_count": 6,
   "id": "2b9a442d",
   "metadata": {},
   "outputs": [
    {
     "name": "stdout",
     "output_type": "stream",
     "text": [
      "Optimum R2 value for the best LASSO regression model over train set: 0.7070875030803956\n",
      "Optimum alpha value for LASSO regression model: {'alpha': 1}\n",
      "Optimum model configuration for LASSO regression model: Lasso(alpha=1, random_state=42)\n"
     ]
    }
   ],
   "source": [
    "# LASSO regresyon modelinin seçimi ve ızgara araması için parametrelerin tanımlanması:\n",
    "from sklearn.linear_model import Lasso\n",
    "lasso_model = Lasso(random_state=42) \n",
    "parameters = {\"alpha\": [1e-15, 1e-10, 1e-8, 1e-4, 1e-3, 1e-2, 1, 2, 3, 4, 5, 10, 20, 30, 50]} # Regularization strength will chosen using Grid Search.\n",
    "\n",
    "from sklearn.model_selection import GridSearchCV\n",
    "lasso_model_GS = GridSearchCV(estimator=lasso_model, param_grid=parameters, scoring=\"r2\", cv=5)\n",
    "\n",
    "# LASSO regresyon modelinin eğitimi:\n",
    "lasso_model_GS.fit(X_train.values, y_train)\n",
    "\n",
    "# LASSO modeli için optimum R2 ölçütünün değerini ekranda görüntüleme:\n",
    "print(\"Optimum R2 value for the best LASSO regression model over train set:\", lasso_model_GS.best_score_)\n",
    "\n",
    "# LASSO modeli için optimum alpha (L1 parametresi) değerini ekranda görüntüleme:\n",
    "print(\"Optimum alpha value for LASSO regression model:\", lasso_model_GS.best_params_)\n",
    "\n",
    "# LASSO modeli için optimum modelin parametre değerlerini ekranda görüntüleme:\n",
    "print(\"Optimum model configuration for LASSO regression model:\", lasso_model_GS.best_estimator_)"
   ]
  },
  {
   "cell_type": "code",
   "execution_count": 7,
   "id": "c69b0d9a",
   "metadata": {},
   "outputs": [
    {
     "name": "stdout",
     "output_type": "stream",
     "text": [
      "[0.59123045 0.86153674 0.75880023 0.58955277 0.73431731]\n",
      "0.7070875030803956\n",
      "0.10441025340335014\n"
     ]
    }
   ],
   "source": [
    "# Izgara araması sonucu seçilen en iyi tahmincinin, yani en yüksek puanı veren tahminci için çapraz doğrulama yapma:\n",
    "from sklearn.model_selection import cross_val_score\n",
    "all_accuracies = cross_val_score(estimator=lasso_model_GS.best_estimator_, X=X_train.values, y=y_train, cv=5)\n",
    "\n",
    "# Çapraz doğrulamanın her bir çalışması için tahmin edicinin puanlarını/skorlarını ekranda görüntüleme:\n",
    "print(all_accuracies)\n",
    "\n",
    "# Çapraz doğrulamanın her bir çalışması sonucu elde edilen tahmin edicinin puanlarının/skorlarının ortalamasını ve standart sapmasını ekranda görüntüleme:\n",
    "print(all_accuracies.mean())\n",
    "print(all_accuracies.std())"
   ]
  },
  {
   "cell_type": "code",
   "execution_count": 8,
   "id": "38db41b9",
   "metadata": {},
   "outputs": [
    {
     "data": {
      "text/plain": [
       "290.7383188226408"
      ]
     },
     "execution_count": 8,
     "metadata": {},
     "output_type": "execute_result"
    }
   ],
   "source": [
    "# Elde edilen en iyi modelin kesim parametresini elde etme:\n",
    "lasso_model_GS.best_estimator_.intercept_"
   ]
  },
  {
   "cell_type": "code",
   "execution_count": 9,
   "id": "9dea5e23",
   "metadata": {},
   "outputs": [
    {
     "data": {
      "text/html": [
       "<div>\n",
       "<style scoped>\n",
       "    .dataframe tbody tr th:only-of-type {\n",
       "        vertical-align: middle;\n",
       "    }\n",
       "\n",
       "    .dataframe tbody tr th {\n",
       "        vertical-align: top;\n",
       "    }\n",
       "\n",
       "    .dataframe thead th {\n",
       "        text-align: right;\n",
       "    }\n",
       "</style>\n",
       "<table border=\"1\" class=\"dataframe\">\n",
       "  <thead>\n",
       "    <tr style=\"text-align: right;\">\n",
       "      <th></th>\n",
       "      <th>LASSO (alpha=1) Feature Coefficients</th>\n",
       "    </tr>\n",
       "  </thead>\n",
       "  <tbody>\n",
       "    <tr>\n",
       "      <th>Oda_Sayısı</th>\n",
       "      <td>103.407284</td>\n",
       "    </tr>\n",
       "    <tr>\n",
       "      <th>Net_m2</th>\n",
       "      <td>1.619248</td>\n",
       "    </tr>\n",
       "    <tr>\n",
       "      <th>Katı</th>\n",
       "      <td>7.086422</td>\n",
       "    </tr>\n",
       "    <tr>\n",
       "      <th>Yaşı</th>\n",
       "      <td>-4.055176</td>\n",
       "    </tr>\n",
       "  </tbody>\n",
       "</table>\n",
       "</div>"
      ],
      "text/plain": [
       "            LASSO (alpha=1) Feature Coefficients\n",
       "Oda_Sayısı                            103.407284\n",
       "Net_m2                                  1.619248\n",
       "Katı                                    7.086422\n",
       "Yaşı                                   -4.055176"
      ]
     },
     "execution_count": 9,
     "metadata": {},
     "output_type": "execute_result"
    }
   ],
   "source": [
    "# Elde edilen en iyi modelin eğim parametrelerini elde etme:\n",
    "coefficient_df = pd.DataFrame(lasso_model_GS.best_estimator_.coef_, X.columns, columns=[\"LASSO (alpha=1) Feature Coefficients\"])\n",
    "coefficient_df"
   ]
  },
  {
   "cell_type": "code",
   "execution_count": 10,
   "id": "ce6209d4",
   "metadata": {},
   "outputs": [
    {
     "name": "stdout",
     "output_type": "stream",
     "text": [
      "R2 for LASSO regression model over train set: 0.7324650909211012\n",
      "R2 for LASSO regression model over test set: 0.6862906745619393\n"
     ]
    }
   ],
   "source": [
    "# En iyi LASSO regresyon modelinin R2 ölçütünü hesaplama (eğitim veri setinin üzerinden tahmin):\n",
    "print(\"R2 for LASSO regression model over train set:\", lasso_model_GS.best_estimator_.score(X_train.values, y_train))\n",
    "\n",
    "# En iyi LASSO regresyon modelinin R2 ölçütünü hesaplama (test veri setinin üzerinden tahmin):\n",
    "print(\"R2 for LASSO regression model over test set:\", lasso_model_GS.best_estimator_.score(X_test.values, y_test))"
   ]
  },
  {
   "cell_type": "code",
   "execution_count": 11,
   "id": "c3ab7296",
   "metadata": {},
   "outputs": [
    {
     "name": "stdout",
     "output_type": "stream",
     "text": [
      "Predicted price: ₺561.17, Actual price: ₺525.00\n",
      "Predicted price: ₺684.83, Actual price: ₺650.00\n",
      "Predicted price: ₺536.87, Actual price: ₺550.00\n",
      "Predicted price: ₺688.90, Actual price: ₺675.00\n",
      "Predicted price: ₺678.70, Actual price: ₺675.00\n",
      "Predicted price: ₺698.95, Actual price: ₺625.00\n",
      "Predicted price: ₺557.16, Actual price: ₺575.00\n",
      "Predicted price: ₺673.70, Actual price: ₺650.00\n",
      "Predicted price: ₺553.08, Actual price: ₺600.00\n",
      "Predicted price: ₺678.74, Actual price: ₺775.00\n",
      "Predicted price: ₺842.84, Actual price: ₺800.00\n",
      "Predicted price: ₺553.08, Actual price: ₺500.00\n",
      "Predicted price: ₺743.54, Actual price: ₺725.00\n",
      "Predicted price: ₺562.16, Actual price: ₺550.00\n",
      "Predicted price: ₺558.15, Actual price: ₺625.00\n",
      "Predicted price: ₺689.91, Actual price: ₺650.00\n",
      "Predicted price: ₺544.95, Actual price: ₺500.00\n",
      "Predicted price: ₺685.85, Actual price: ₺675.00\n",
      "Predicted price: ₺665.59, Actual price: ₺625.00\n",
      "Predicted price: ₺550.00, Actual price: ₺500.00\n",
      "Predicted price: ₺569.30, Actual price: ₺625.00\n",
      "Predicted price: ₺701.05, Actual price: ₺675.00\n",
      "Predicted price: ₺704.05, Actual price: ₺750.00\n",
      "Predicted price: ₺661.53, Actual price: ₺675.00\n",
      "Predicted price: ₺700.95, Actual price: ₺600.00\n",
      "Predicted price: ₺689.91, Actual price: ₺600.00\n",
      "Predicted price: ₺446.72, Actual price: ₺450.00\n",
      "Predicted price: ₺533.85, Actual price: ₺500.00\n",
      "Predicted price: ₺690.84, Actual price: ₺625.00\n",
      "Predicted price: ₺701.05, Actual price: ₺600.00\n",
      "Predicted price: ₺668.62, Actual price: ₺675.00\n",
      "Predicted price: ₺529.77, Actual price: ₺500.00\n",
      "Predicted price: ₺661.52, Actual price: ₺675.00\n",
      "Predicted price: ₺516.59, Actual price: ₺550.00\n",
      "Predicted price: ₺842.83, Actual price: ₺850.00\n",
      "Predicted price: ₺669.64, Actual price: ₺650.00\n",
      "Predicted price: ₺693.96, Actual price: ₺650.00\n",
      "Predicted price: ₺532.80, Actual price: ₺525.00\n",
      "Predicted price: ₺661.53, Actual price: ₺650.00\n",
      "Predicted price: ₺689.87, Actual price: ₺750.00\n",
      "Predicted price: ₺471.02, Actual price: ₺475.00\n",
      "Predicted price: ₺545.94, Actual price: ₺525.00\n",
      "Predicted price: ₺677.74, Actual price: ₺675.00\n",
      "Predicted price: ₺452.80, Actual price: ₺475.00\n",
      "Predicted price: ₺573.35, Actual price: ₺575.00\n",
      "Predicted price: ₺677.69, Actual price: ₺650.00\n",
      "Predicted price: ₺685.86, Actual price: ₺650.00\n",
      "Predicted price: ₺673.70, Actual price: ₺625.00\n",
      "Predicted price: ₺681.81, Actual price: ₺675.00\n",
      "Predicted price: ₺442.68, Actual price: ₺475.00\n",
      "Predicted price: ₺692.95, Actual price: ₺675.00\n",
      "Predicted price: ₺671.63, Actual price: ₺675.00\n",
      "Predicted price: ₺673.69, Actual price: ₺675.00\n",
      "Predicted price: ₺434.58, Actual price: ₺475.00\n",
      "Predicted price: ₺692.91, Actual price: ₺775.00\n",
      "Predicted price: ₺750.65, Actual price: ₺750.00\n",
      "Predicted price: ₺659.47, Actual price: ₺625.00\n",
      "Predicted price: ₺699.01, Actual price: ₺775.00\n",
      "Predicted price: ₺696.93, Actual price: ₺700.00\n",
      "Predicted price: ₺544.95, Actual price: ₺550.00\n",
      "Predicted price: ₺672.68, Actual price: ₺600.00\n",
      "Predicted price: ₺574.36, Actual price: ₺525.00\n",
      "Predicted price: ₺541.92, Actual price: ₺600.00\n",
      "Predicted price: ₺718.23, Actual price: ₺725.00\n",
      "Predicted price: ₺732.42, Actual price: ₺725.00\n",
      "Predicted price: ₺533.81, Actual price: ₺500.00\n",
      "Predicted price: ₺506.48, Actual price: ₺550.00\n",
      "Predicted price: ₺708.13, Actual price: ₺725.00\n",
      "Predicted price: ₺700.95, Actual price: ₺625.00\n",
      "Predicted price: ₺715.16, Actual price: ₺650.00\n",
      "Predicted price: ₺672.64, Actual price: ₺675.00\n",
      "Predicted price: ₺537.89, Actual price: ₺500.00\n",
      "Predicted price: ₺672.66, Actual price: ₺600.00\n",
      "Predicted price: ₺662.50, Actual price: ₺675.00\n",
      "Predicted price: ₺687.81, Actual price: ₺600.00\n",
      "Predicted price: ₺830.66, Actual price: ₺925.00\n",
      "Predicted price: ₺755.69, Actual price: ₺750.00\n",
      "Predicted price: ₺525.73, Actual price: ₺525.00\n",
      "Predicted price: ₺693.90, Actual price: ₺600.00\n",
      "Predicted price: ₺738.49, Actual price: ₺700.00\n",
      "Predicted price: ₺744.56, Actual price: ₺725.00\n",
      "Predicted price: ₺675.67, Actual price: ₺625.00\n",
      "Predicted price: ₺693.90, Actual price: ₺725.00\n",
      "Predicted price: ₺529.77, Actual price: ₺500.00\n",
      "Predicted price: ₺540.92, Actual price: ₺600.00\n",
      "Predicted price: ₺763.82, Actual price: ₺750.00\n",
      "Predicted price: ₺745.59, Actual price: ₺775.00\n",
      "Predicted price: ₺705.02, Actual price: ₺650.00\n",
      "Predicted price: ₺790.18, Actual price: ₺925.00\n",
      "Predicted price: ₺657.46, Actual price: ₺625.00\n",
      "Predicted price: ₺465.96, Actual price: ₺450.00\n",
      "Predicted price: ₺660.51, Actual price: ₺675.00\n",
      "Predicted price: ₺536.88, Actual price: ₺575.00\n",
      "Predicted price: ₺717.23, Actual price: ₺700.00\n",
      "Predicted price: ₺686.85, Actual price: ₺750.00\n",
      "Predicted price: ₺727.32, Actual price: ₺750.00\n",
      "Predicted price: ₺557.14, Actual price: ₺525.00\n",
      "Predicted price: ₺709.06, Actual price: ₺650.00\n",
      "Predicted price: ₺541.95, Actual price: ₺575.00\n",
      "Predicted price: ₺446.72, Actual price: ₺475.00\n",
      "Predicted price: ₺672.66, Actual price: ₺650.00\n",
      "Predicted price: ₺685.80, Actual price: ₺700.00\n",
      "Predicted price: ₺662.50, Actual price: ₺625.00\n",
      "Predicted price: ₺724.31, Actual price: ₺775.00\n",
      "Predicted price: ₺725.30, Actual price: ₺750.00\n",
      "Predicted price: ₺633.13, Actual price: ₺700.00\n",
      "Predicted price: ₺454.82, Actual price: ₺450.00\n",
      "Predicted price: ₺507.48, Actual price: ₺575.00\n",
      "Predicted price: ₺688.83, Actual price: ₺675.00\n",
      "Predicted price: ₺693.92, Actual price: ₺725.00\n",
      "Predicted price: ₺677.75, Actual price: ₺625.00\n",
      "Predicted price: ₺472.05, Actual price: ₺550.00\n",
      "Predicted price: ₺729.33, Actual price: ₺675.00\n",
      "Predicted price: ₺747.59, Actual price: ₺700.00\n",
      "Predicted price: ₺685.86, Actual price: ₺675.00\n",
      "Predicted price: ₺677.71, Actual price: ₺775.00\n",
      "Predicted price: ₺706.06, Actual price: ₺750.00\n",
      "Predicted price: ₺680.72, Actual price: ₺675.00\n",
      "Predicted price: ₺566.27, Actual price: ₺625.00\n",
      "Predicted price: ₺673.70, Actual price: ₺650.00\n",
      "Predicted price: ₺562.20, Actual price: ₺550.00\n",
      "Predicted price: ₺817.53, Actual price: ₺1175.00\n",
      "Predicted price: ₺671.63, Actual price: ₺700.00\n",
      "Predicted price: ₺525.74, Actual price: ₺625.00\n",
      "Predicted price: ₺670.61, Actual price: ₺600.00\n",
      "Predicted price: ₺543.94, Actual price: ₺500.00\n",
      "Predicted price: ₺540.94, Actual price: ₺550.00\n",
      "Predicted price: ₺716.20, Actual price: ₺700.00\n",
      "Predicted price: ₺832.72, Actual price: ₺975.00\n",
      "Predicted price: ₺673.69, Actual price: ₺600.00\n",
      "Predicted price: ₺565.24, Actual price: ₺500.00\n",
      "Predicted price: ₺685.81, Actual price: ₺750.00\n",
      "Predicted price: ₺714.17, Actual price: ₺775.00\n",
      "Predicted price: ₺462.93, Actual price: ₺475.00\n",
      "Predicted price: ₺561.19, Actual price: ₺575.00\n",
      "Predicted price: ₺710.14, Actual price: ₺700.00\n",
      "Predicted price: ₺692.94, Actual price: ₺675.00\n",
      "Predicted price: ₺684.80, Actual price: ₺750.00\n",
      "Predicted price: ₺668.61, Actual price: ₺600.00\n",
      "Predicted price: ₺661.53, Actual price: ₺600.00\n",
      "Predicted price: ₺653.42, Actual price: ₺600.00\n",
      "Predicted price: ₺653.40, Actual price: ₺725.00\n",
      "Predicted price: ₺659.47, Actual price: ₺675.00\n",
      "Predicted price: ₺685.86, Actual price: ₺650.00\n",
      "Predicted price: ₺874.23, Actual price: ₺950.00\n",
      "Predicted price: ₺523.69, Actual price: ₺550.00\n",
      "Predicted price: ₺681.73, Actual price: ₺675.00\n",
      "Predicted price: ₺673.69, Actual price: ₺625.00\n",
      "Predicted price: ₺515.59, Actual price: ₺550.00\n",
      "Predicted price: ₺666.55, Actual price: ₺625.00\n",
      "Predicted price: ₺683.82, Actual price: ₺750.00\n",
      "Predicted price: ₺672.66, Actual price: ₺650.00\n"
     ]
    }
   ],
   "source": [
    "# Eğitim veri seti tahmini veya örneklem-içi tahmin (in-sample prediction):\n",
    "# Eğitim setindeki tüm değerler için eğitilen en iyi modeli kullanarak fiyat tahmini yapma:\n",
    "y_train_predicted = lasso_model_GS.best_estimator_.predict(X_train.values)\n",
    "y_train_predicted = pd.Series(y_train_predicted, index=y_train.index)\n",
    "for i, prediction in enumerate(y_train_predicted):\n",
    "    print(\"Predicted price: ₺%.2f, Actual price: ₺%.2f\" % (prediction, y_train[y_train.index[i]]))"
   ]
  },
  {
   "cell_type": "code",
   "execution_count": 12,
   "id": "c1f5bd94",
   "metadata": {},
   "outputs": [
    {
     "data": {
      "image/png": "[encoded data removed]",
      "text/plain": [
       "<Figure size 1000x600 with 1 Axes>"
      ]
     },
     "metadata": {},
     "output_type": "display_data"
    }
   ],
   "source": [
    "# Eğitim setindeki evlerin gerçek değerleri ve model ile tahmin edilmiş fiyatlarının karşılaştırılması:\n",
    "plt.figure(figsize=(10, 6))\n",
    "plt.xticks(y_train, y_train.index.values)\n",
    "plt.plot(y_train, \"g^\")\n",
    "plt.xticks(y_train_predicted, y_train_predicted.index.values)\n",
    "plt.plot(y_train_predicted, \"ro\")\n",
    "plt.title(\"LASSO Regression\")\n",
    "plt.xlabel(\"Houses for Sale\", fontsize=15)\n",
    "plt.ylabel(\"Predicted Prices/Actual Prices\", fontsize=15)\n",
    "plt.legend([\"Actual Value\", \"Predicted Value\"], fontsize=13, loc=\"lower right\")\n",
    "plt.show()"
   ]
  },
  {
   "cell_type": "code",
   "execution_count": 13,
   "id": "73428230",
   "metadata": {},
   "outputs": [
    {
     "name": "stdout",
     "output_type": "stream",
     "text": [
      "The predicted price of the desired apartment: ₺766.89\n"
     ]
    }
   ],
   "source": [
    "# 3 odalı, 8 yıllık bir binanın 4.katında bulunan net 105 m^2 kullanım alanına sahip bir dairenin fiyatını tahmin etme:\n",
    "room_number = 3\n",
    "net_m2 = 105\n",
    "floor = 4\n",
    "age = 8\n",
    "test_apartment = np.array([[room_number, net_m2, floor, age]])\n",
    "predicted_price = lasso_model_GS.best_estimator_.predict(test_apartment)[0]\n",
    "print(\"The predicted price of the desired apartment: ₺%.2f\" % predicted_price)"
   ]
  },
  {
   "cell_type": "code",
   "execution_count": 14,
   "id": "2041d7b3",
   "metadata": {},
   "outputs": [
    {
     "name": "stdout",
     "output_type": "stream",
     "text": [
      "Optimum R2 value for the best RIDGE regression model over train set: 0.7071772649347371\n",
      "Optimum alpha value for RIDGE regression model: {'alpha': 1}\n",
      "Optimum model configuration for RIDGE regression model: Ridge(alpha=1, random_state=42)\n"
     ]
    }
   ],
   "source": [
    "# RIDGE regresyon modelinin seçimi ve ızgara araması için parametrelerin tanımlanması:\n",
    "from sklearn.linear_model import Ridge\n",
    "ridge_model = Ridge(random_state=42) \n",
    "parameters = {\"alpha\": [1e-15, 1e-10, 1e-8, 1e-4, 1e-3, 1e-2, 1, 2, 3, 4, 5, 10, 20, 30, 50]} # Regularization strength will chosen using Grid Search.\n",
    "\n",
    "from sklearn.model_selection import GridSearchCV\n",
    "ridge_model_GS = GridSearchCV(estimator=ridge_model, param_grid=parameters, scoring=\"r2\", cv=5)\n",
    "\n",
    "# RIDGE regresyon modelinin eğitimi:\n",
    "ridge_model_GS.fit(X_train.values, y_train)\n",
    "\n",
    "# RIDGE modeli için optimum R2 ölçütünün değerini ekranda görüntüleme:\n",
    "print(\"Optimum R2 value for the best RIDGE regression model over train set:\", ridge_model_GS.best_score_)\n",
    "\n",
    "# RIDGE modeli için optimum alpha (L2 parametresi) değerini ekranda görüntüleme:\n",
    "print(\"Optimum alpha value for RIDGE regression model:\", ridge_model_GS.best_params_)\n",
    "\n",
    "# RIDGE modeli için optimum modelin parametre değerlerini ekranda görüntüleme:\n",
    "print(\"Optimum model configuration for RIDGE regression model:\", ridge_model_GS.best_estimator_)"
   ]
  },
  {
   "cell_type": "code",
   "execution_count": 15,
   "id": "fefb0863",
   "metadata": {},
   "outputs": [
    {
     "name": "stdout",
     "output_type": "stream",
     "text": [
      "[0.59028756 0.86202159 0.75828323 0.58997173 0.73532222]\n",
      "0.7071772649347371\n",
      "0.10467192818729884\n"
     ]
    }
   ],
   "source": [
    "# Izgara araması sonucu seçilen en iyi tahmincinin, yani en yüksek puanı veren tahminci için çapraz doğrulama yapma:\n",
    "from sklearn.model_selection import cross_val_score\n",
    "all_accuracies = cross_val_score(estimator=ridge_model_GS.best_estimator_, X=X_train.values, y=y_train, cv=5)\n",
    "\n",
    "# Çapraz doğrulamanın her bir çalışması için tahmin edicinin puanlarını/skorlarını ekranda görüntüleme:\n",
    "print(all_accuracies)\n",
    "\n",
    "# Çapraz doğrulamanın her bir çalışması sonucu elde edilen tahmin edicinin puanlarının/skorlarının ortalamasını ve standart sapmasını ekranda görüntüleme:\n",
    "print(all_accuracies.mean())\n",
    "print(all_accuracies.std())"
   ]
  },
  {
   "cell_type": "code",
   "execution_count": 16,
   "id": "7360e00a",
   "metadata": {},
   "outputs": [
    {
     "data": {
      "text/plain": [
       "294.7107301058713"
      ]
     },
     "execution_count": 16,
     "metadata": {},
     "output_type": "execute_result"
    }
   ],
   "source": [
    "# Elde edilen en iyi modelin kesim parametresini elde etme:\n",
    "ridge_model_GS.best_estimator_.intercept_"
   ]
  },
  {
   "cell_type": "code",
   "execution_count": 17,
   "id": "80eb7810",
   "metadata": {},
   "outputs": [
    {
     "data": {
      "text/html": [
       "<div>\n",
       "<style scoped>\n",
       "    .dataframe tbody tr th:only-of-type {\n",
       "        vertical-align: middle;\n",
       "    }\n",
       "\n",
       "    .dataframe tbody tr th {\n",
       "        vertical-align: top;\n",
       "    }\n",
       "\n",
       "    .dataframe thead th {\n",
       "        text-align: right;\n",
       "    }\n",
       "</style>\n",
       "<table border=\"1\" class=\"dataframe\">\n",
       "  <thead>\n",
       "    <tr style=\"text-align: right;\">\n",
       "      <th></th>\n",
       "      <th>RIDGE (alpha=1) Feature Coefficients</th>\n",
       "    </tr>\n",
       "  </thead>\n",
       "  <tbody>\n",
       "    <tr>\n",
       "      <th>Oda_Sayısı</th>\n",
       "      <td>107.776167</td>\n",
       "    </tr>\n",
       "    <tr>\n",
       "      <th>Net_m2</th>\n",
       "      <td>1.478146</td>\n",
       "    </tr>\n",
       "    <tr>\n",
       "      <th>Katı</th>\n",
       "      <td>7.135185</td>\n",
       "    </tr>\n",
       "    <tr>\n",
       "      <th>Yaşı</th>\n",
       "      <td>-4.234666</td>\n",
       "    </tr>\n",
       "  </tbody>\n",
       "</table>\n",
       "</div>"
      ],
      "text/plain": [
       "            RIDGE (alpha=1) Feature Coefficients\n",
       "Oda_Sayısı                            107.776167\n",
       "Net_m2                                  1.478146\n",
       "Katı                                    7.135185\n",
       "Yaşı                                   -4.234666"
      ]
     },
     "execution_count": 17,
     "metadata": {},
     "output_type": "execute_result"
    }
   ],
   "source": [
    "# Elde edilen en iyi modelin eğim parametrelerini elde etme:\n",
    "coefficient_df = pd.DataFrame(ridge_model_GS.best_estimator_.coef_, X.columns, columns=[\"RIDGE (alpha=1) Feature Coefficients\"])\n",
    "coefficient_df"
   ]
  },
  {
   "cell_type": "code",
   "execution_count": 18,
   "id": "643cfec6",
   "metadata": {},
   "outputs": [
    {
     "name": "stdout",
     "output_type": "stream",
     "text": [
      "R2 for RIDGE regression model over train set: 0.7331046122177594\n",
      "R2 for RIDGE regression model over test set: 0.6904116932614515\n"
     ]
    }
   ],
   "source": [
    "# En iyi RIDGE regresyon modelinin R2 ölçütünü hesaplama (eğitim veri setinin üzerinden tahmin):\n",
    "print(\"R2 for RIDGE regression model over train set:\", ridge_model_GS.best_estimator_.score(X_train.values, y_train))\n",
    "\n",
    "# En iyi RIDGE regresyon modelinin R2 ölçütünü hesaplama (test veri setinin üzerinden tahmin):\n",
    "print(\"R2 for RIDGE regression model over test set:\", ridge_model_GS.best_estimator_.score(X_test.values, y_test))"
   ]
  },
  {
   "cell_type": "code",
   "execution_count": 19,
   "id": "718c5ce0",
   "metadata": {},
   "outputs": [
    {
     "name": "stdout",
     "output_type": "stream",
     "text": [
      "Predicted price: ₺558.35, Actual price: ₺525.00\n",
      "Predicted price: ₺685.14, Actual price: ₺650.00\n",
      "Predicted price: ₺535.10, Actual price: ₺550.00\n",
      "Predicted price: ₺690.45, Actual price: ₺675.00\n",
      "Predicted price: ₺677.89, Actual price: ₺675.00\n",
      "Predicted price: ₺699.04, Actual price: ₺625.00\n",
      "Predicted price: ₺557.35, Actual price: ₺575.00\n",
      "Predicted price: ₺674.85, Actual price: ₺650.00\n",
      "Predicted price: ₺550.96, Actual price: ₺600.00\n",
      "Predicted price: ₺679.32, Actual price: ₺775.00\n",
      "Predicted price: ₺843.77, Actual price: ₺800.00\n",
      "Predicted price: ₺550.96, Actual price: ₺500.00\n",
      "Predicted price: ₺744.87, Actual price: ₺725.00\n",
      "Predicted price: ₺562.53, Actual price: ₺550.00\n",
      "Predicted price: ₺556.53, Actual price: ₺625.00\n",
      "Predicted price: ₺690.71, Actual price: ₺650.00\n",
      "Predicted price: ₺541.41, Actual price: ₺500.00\n",
      "Predicted price: ₺686.47, Actual price: ₺675.00\n",
      "Predicted price: ₺666.38, Actual price: ₺625.00\n",
      "Predicted price: ₺549.82, Actual price: ₺500.00\n",
      "Predicted price: ₺567.90, Actual price: ₺625.00\n",
      "Predicted price: ₺702.08, Actual price: ₺675.00\n",
      "Predicted price: ₺704.96, Actual price: ₺750.00\n",
      "Predicted price: ₺662.14, Actual price: ₺675.00\n",
      "Predicted price: ₺699.53, Actual price: ₺600.00\n",
      "Predicted price: ₺690.71, Actual price: ₺600.00\n",
      "Predicted price: ₺446.75, Actual price: ₺450.00\n",
      "Predicted price: ₺533.27, Actual price: ₺500.00\n",
      "Predicted price: ₺690.57, Actual price: ₺625.00\n",
      "Predicted price: ₺702.08, Actual price: ₺600.00\n",
      "Predicted price: ₺669.28, Actual price: ₺675.00\n",
      "Predicted price: ₺526.88, Actual price: ₺500.00\n",
      "Predicted price: ₺661.07, Actual price: ₺675.00\n",
      "Predicted price: ₺516.79, Actual price: ₺550.00\n",
      "Predicted price: ₺842.69, Actual price: ₺850.00\n",
      "Predicted price: ₺670.61, Actual price: ₺650.00\n",
      "Predicted price: ₺694.94, Actual price: ₺650.00\n",
      "Predicted price: ₺532.65, Actual price: ₺525.00\n",
      "Predicted price: ₺662.14, Actual price: ₺650.00\n",
      "Predicted price: ₺689.61, Actual price: ₺750.00\n",
      "Predicted price: ₺470.00, Actual price: ₺475.00\n",
      "Predicted price: ₺545.59, Actual price: ₺525.00\n",
      "Predicted price: ₺678.00, Actual price: ₺675.00\n",
      "Predicted price: ₺453.63, Actual price: ₺475.00\n",
      "Predicted price: ₺572.13, Actual price: ₺575.00\n",
      "Predicted price: ₺677.64, Actual price: ₺650.00\n",
      "Predicted price: ₺687.55, Actual price: ₺650.00\n",
      "Predicted price: ₺674.85, Actual price: ₺625.00\n",
      "Predicted price: ₺683.32, Actual price: ₺675.00\n",
      "Predicted price: ₺443.60, Actual price: ₺475.00\n",
      "Predicted price: ₺694.69, Actual price: ₺675.00\n",
      "Predicted price: ₺671.84, Actual price: ₺675.00\n",
      "Predicted price: ₺673.77, Actual price: ₺675.00\n",
      "Predicted price: ₺436.20, Actual price: ₺475.00\n",
      "Predicted price: ₺693.59, Actual price: ₺775.00\n",
      "Predicted price: ₺752.02, Actual price: ₺750.00\n",
      "Predicted price: ₺659.13, Actual price: ₺625.00\n",
      "Predicted price: ₺700.49, Actual price: ₺775.00\n",
      "Predicted price: ₺696.40, Actual price: ₺700.00\n",
      "Predicted price: ₺541.41, Actual price: ₺550.00\n",
      "Predicted price: ₺673.51, Actual price: ₺600.00\n",
      "Predicted price: ₺572.39, Actual price: ₺525.00\n",
      "Predicted price: ₺538.51, Actual price: ₺600.00\n",
      "Predicted price: ₺719.23, Actual price: ₺725.00\n",
      "Predicted price: ₺733.52, Actual price: ₺725.00\n",
      "Predicted price: ₺535.04, Actual price: ₺500.00\n",
      "Predicted price: ₺507.84, Actual price: ₺550.00\n",
      "Predicted price: ₺709.21, Actual price: ₺725.00\n",
      "Predicted price: ₺699.53, Actual price: ₺625.00\n",
      "Predicted price: ₺714.90, Actual price: ₺650.00\n",
      "Predicted price: ₺672.09, Actual price: ₺675.00\n",
      "Predicted price: ₺536.43, Actual price: ₺500.00\n",
      "Predicted price: ₺672.44, Actual price: ₺600.00\n",
      "Predicted price: ₺662.03, Actual price: ₺675.00\n",
      "Predicted price: ₺687.67, Actual price: ₺600.00\n",
      "Predicted price: ₺829.99, Actual price: ₺925.00\n",
      "Predicted price: ₺756.49, Actual price: ₺750.00\n",
      "Predicted price: ₺523.73, Actual price: ₺525.00\n",
      "Predicted price: ₺693.50, Actual price: ₺600.00\n",
      "Predicted price: ₺739.32, Actual price: ₺700.00\n",
      "Predicted price: ₺746.20, Actual price: ₺725.00\n",
      "Predicted price: ₺674.99, Actual price: ₺625.00\n",
      "Predicted price: ₺693.50, Actual price: ₺725.00\n",
      "Predicted price: ₺526.88, Actual price: ₺500.00\n",
      "Predicted price: ₺539.33, Actual price: ₺600.00\n",
      "Predicted price: ₺766.04, Actual price: ₺750.00\n",
      "Predicted price: ₺747.53, Actual price: ₺775.00\n",
      "Predicted price: ₺704.84, Actual price: ₺650.00\n",
      "Predicted price: ₺790.90, Actual price: ₺925.00\n",
      "Predicted price: ₺656.83, Actual price: ₺625.00\n",
      "Predicted price: ₺465.51, Actual price: ₺450.00\n",
      "Predicted price: ₺660.81, Actual price: ₺675.00\n",
      "Predicted price: ₺536.18, Actual price: ₺575.00\n",
      "Predicted price: ₺717.92, Actual price: ₺700.00\n",
      "Predicted price: ₺687.78, Actual price: ₺750.00\n",
      "Predicted price: ₺727.93, Actual price: ₺750.00\n",
      "Predicted price: ₺556.27, Actual price: ₺525.00\n",
      "Predicted price: ₺708.00, Actual price: ₺650.00\n",
      "Predicted price: ₺540.67, Actual price: ₺575.00\n",
      "Predicted price: ₺446.75, Actual price: ₺475.00\n",
      "Predicted price: ₺672.44, Actual price: ₺650.00\n",
      "Predicted price: ₺686.11, Actual price: ₺700.00\n",
      "Predicted price: ₺662.03, Actual price: ₺625.00\n",
      "Predicted price: ₺725.05, Actual price: ₺775.00\n",
      "Predicted price: ₺725.28, Actual price: ₺750.00\n",
      "Predicted price: ₺632.16, Actual price: ₺700.00\n",
      "Predicted price: ₺454.14, Actual price: ₺450.00\n",
      "Predicted price: ₺507.01, Actual price: ₺575.00\n",
      "Predicted price: ₺689.01, Actual price: ₺675.00\n",
      "Predicted price: ₺693.84, Actual price: ₺725.00\n",
      "Predicted price: ₺679.08, Actual price: ₺625.00\n",
      "Predicted price: ₺473.47, Actual price: ₺550.00\n",
      "Predicted price: ₺729.17, Actual price: ₺675.00\n",
      "Predicted price: ₺749.10, Actual price: ₺700.00\n",
      "Predicted price: ₺687.55, Actual price: ₺675.00\n",
      "Predicted price: ₺677.98, Actual price: ₺775.00\n",
      "Predicted price: ₺706.52, Actual price: ₺750.00\n",
      "Predicted price: ₺680.54, Actual price: ₺675.00\n",
      "Predicted price: ₺564.99, Actual price: ₺625.00\n",
      "Predicted price: ₺674.85, Actual price: ₺650.00\n",
      "Predicted price: ₺559.68, Actual price: ₺550.00\n",
      "Predicted price: ₺818.13, Actual price: ₺1175.00\n",
      "Predicted price: ₺671.84, Actual price: ₺700.00\n",
      "Predicted price: ₺524.81, Actual price: ₺625.00\n",
      "Predicted price: ₺670.50, Actual price: ₺600.00\n",
      "Predicted price: ₺544.02, Actual price: ₺500.00\n",
      "Predicted price: ₺540.41, Actual price: ₺550.00\n",
      "Predicted price: ₺716.58, Actual price: ₺700.00\n",
      "Predicted price: ₺833.74, Actual price: ₺975.00\n",
      "Predicted price: ₺673.77, Actual price: ₺600.00\n",
      "Predicted price: ₺563.66, Actual price: ₺500.00\n",
      "Predicted price: ₺685.37, Actual price: ₺750.00\n",
      "Predicted price: ₺714.99, Actual price: ₺775.00\n",
      "Predicted price: ₺462.61, Actual price: ₺475.00\n",
      "Predicted price: ₺559.43, Actual price: ₺575.00\n",
      "Predicted price: ₺710.78, Actual price: ₺700.00\n",
      "Predicted price: ₺693.61, Actual price: ₺675.00\n",
      "Predicted price: ₺685.12, Actual price: ₺750.00\n",
      "Predicted price: ₺668.20, Actual price: ₺600.00\n",
      "Predicted price: ₺662.14, Actual price: ₺600.00\n",
      "Predicted price: ₺653.68, Actual price: ₺600.00\n",
      "Predicted price: ₺653.33, Actual price: ₺725.00\n",
      "Predicted price: ₺659.13, Actual price: ₺675.00\n",
      "Predicted price: ₺687.55, Actual price: ₺650.00\n",
      "Predicted price: ₺874.16, Actual price: ₺950.00\n",
      "Predicted price: ₺525.01, Actual price: ₺550.00\n",
      "Predicted price: ₺680.79, Actual price: ₺675.00\n",
      "Predicted price: ₺673.77, Actual price: ₺625.00\n",
      "Predicted price: ₺517.62, Actual price: ₺550.00\n",
      "Predicted price: ₺666.27, Actual price: ₺625.00\n",
      "Predicted price: ₺684.88, Actual price: ₺750.00\n",
      "Predicted price: ₺672.44, Actual price: ₺650.00\n"
     ]
    }
   ],
   "source": [
    "# Eğitim veri seti tahmini veya örneklem-içi tahmin (in-sample prediction):\n",
    "# Eğitim setindeki tüm değerler için eğitilen en iyi modeli kullanarak fiyat tahmini yapma:\n",
    "y_train_predicted = ridge_model_GS.best_estimator_.predict(X_train.values)\n",
    "y_train_predicted = pd.Series(y_train_predicted, index=y_train.index)\n",
    "for i, prediction in enumerate(y_train_predicted):\n",
    "    print(\"Predicted price: ₺%.2f, Actual price: ₺%.2f\" % (prediction, y_train[y_train.index[i]]))"
   ]
  },
  {
   "cell_type": "code",
   "execution_count": 20,
   "id": "4c2297e4",
   "metadata": {},
   "outputs": [
    {
     "data": {
      "image/png": "[encoded data removed]",
      "text/plain": [
       "<Figure size 1000x600 with 1 Axes>"
      ]
     },
     "metadata": {},
     "output_type": "display_data"
    }
   ],
   "source": [
    "# Eğitim setindeki evlerin gerçek değerleri ve model ile tahmin edilmiş fiyatlarının karşılaştırılması:\n",
    "plt.figure(figsize=(10, 6))\n",
    "plt.xticks(y_train, y_train.index.values)\n",
    "plt.plot(y_train, \"g^\")\n",
    "plt.xticks(y_train_predicted, y_train_predicted.index.values)\n",
    "plt.plot(y_train_predicted, \"ro\")\n",
    "plt.title(\"RIDGE Regression\")\n",
    "plt.xlabel(\"Houses for Sale\", fontsize=15)\n",
    "plt.ylabel(\"Predicted Prices/Actual Prices\", fontsize=15)\n",
    "plt.legend([\"Actual Value\", \"Predicted Value\"], fontsize=13, loc=\"lower right\")\n",
    "plt.show()"
   ]
  },
  {
   "cell_type": "code",
   "execution_count": 21,
   "id": "933d9461",
   "metadata": {},
   "outputs": [
    {
     "name": "stdout",
     "output_type": "stream",
     "text": [
      "The predicted price of the desired apartment: ₺767.91\n"
     ]
    }
   ],
   "source": [
    "# 3 odalı, 8 yıllık bir binanın 4.katında bulunan net 105 m^2 kullanım alanına sahip bir dairenin fiyatını tahmin etme:\n",
    "room_number = 3\n",
    "net_m2 = 105\n",
    "floor = 4\n",
    "age = 8\n",
    "test_apartment = np.array([[room_number, net_m2, floor, age]])\n",
    "predicted_price = ridge_model_GS.best_estimator_.predict(test_apartment)[0]\n",
    "print(\"The predicted price of the desired apartment: ₺%.2f\" % predicted_price)"
   ]
  },
  {
   "cell_type": "code",
   "execution_count": 22,
   "id": "6066008d",
   "metadata": {},
   "outputs": [
    {
     "name": "stdout",
     "output_type": "stream",
     "text": [
      "Optimum R2 value for the best ElasticNet regression model over train set: 0.7073610834707613\n",
      "Optimum alpha and l1_ratio values for ElasticNet regression model: {'alpha': 0.01, 'l1_ratio': 0.5}\n",
      "Optimum model configuration for ElasticNet regression model: ElasticNet(alpha=0.01, random_state=42)\n"
     ]
    }
   ],
   "source": [
    "# ElasticNet regresyon modelinin seçimi ve ızgara araması için parametrelerin tanımlanması:\n",
    "from sklearn.linear_model import ElasticNet\n",
    "elasticnet_model = ElasticNet(random_state=42) \n",
    "parameters = {\"alpha\": [1e-15, 1e-10, 1e-8, 1e-4, 1e-3, 1e-2, 1, 2, 3, 4, 5, 10, 20, 30, 50],\n",
    "             \"l1_ratio\": [0, 0.1, 0.2, 0.3, 0.4, 0.5, 0.6, 0.7, 0.8, 0.9, 1]}\n",
    "\n",
    "from sklearn.model_selection import GridSearchCV\n",
    "elasticnet_model_GS = GridSearchCV(estimator=elasticnet_model, param_grid=parameters, scoring=\"r2\", cv=5)\n",
    "\n",
    "# ElasticNet regresyon modelinin eğitimi:\n",
    "elasticnet_model_GS.fit(X_train.values, y_train)\n",
    "\n",
    "# ElasticNet modeli için optimum R2 ölçütünün değerini ekranda görüntüleme:\n",
    "print(\"Optimum R2 value for the best ElasticNet regression model over train set:\", elasticnet_model_GS.best_score_)\n",
    "\n",
    "# ElasticNet modeli için optimum alpha ve l1_ratio (L parametresi ve eta parametresi) değerlerini ekranda görüntüleme:\n",
    "print(\"Optimum alpha and l1_ratio values for ElasticNet regression model:\", elasticnet_model_GS.best_params_)\n",
    "\n",
    "# ElasticNet modeli için optimum modelin parametre değerlerini ekranda görüntüleme:\n",
    "print(\"Optimum model configuration for ElasticNet regression model:\", elasticnet_model_GS.best_estimator_)"
   ]
  },
  {
   "cell_type": "code",
   "execution_count": 23,
   "id": "70086cd8",
   "metadata": {},
   "outputs": [
    {
     "name": "stdout",
     "output_type": "stream",
     "text": [
      "[0.58966797 0.86205089 0.75871268 0.59061914 0.73575473]\n",
      "0.7073610834707613\n",
      "0.10474012760014134\n"
     ]
    }
   ],
   "source": [
    "# Izgara araması sonucu seçilen en iyi tahmincinin, yani en yüksek puanı veren tahminci için çapraz doğrulama yapma:\n",
    "from sklearn.model_selection import cross_val_score\n",
    "all_accuracies = cross_val_score(estimator=elasticnet_model_GS.best_estimator_, X=X_train.values, y=y_train, cv=5)\n",
    "\n",
    "# Çapraz doğrulamanın her bir çalışması için tahmin edicinin puanlarını/skorlarını ekranda görüntüleme:\n",
    "print(all_accuracies)\n",
    "\n",
    "# Çapraz doğrulamanın her bir çalışması sonucu elde edilen tahmin edicinin puanlarının/skorlarının ortalamasını ve standart sapmasını ekranda görüntüleme:\n",
    "print(all_accuracies.mean())\n",
    "print(all_accuracies.std())"
   ]
  },
  {
   "cell_type": "code",
   "execution_count": 24,
   "id": "353812f2",
   "metadata": {},
   "outputs": [
    {
     "data": {
      "text/plain": [
       "296.9768160015012"
      ]
     },
     "execution_count": 24,
     "metadata": {},
     "output_type": "execute_result"
    }
   ],
   "source": [
    "# Elde edilen en iyi modelin kesim parametresini elde etme:\n",
    "elasticnet_model_GS.best_estimator_.intercept_"
   ]
  },
  {
   "cell_type": "code",
   "execution_count": 25,
   "id": "2b1f5fdd",
   "metadata": {},
   "outputs": [
    {
     "data": {
      "text/html": [
       "<div>\n",
       "<style scoped>\n",
       "    .dataframe tbody tr th:only-of-type {\n",
       "        vertical-align: middle;\n",
       "    }\n",
       "\n",
       "    .dataframe tbody tr th {\n",
       "        vertical-align: top;\n",
       "    }\n",
       "\n",
       "    .dataframe thead th {\n",
       "        text-align: right;\n",
       "    }\n",
       "</style>\n",
       "<table border=\"1\" class=\"dataframe\">\n",
       "  <thead>\n",
       "    <tr style=\"text-align: right;\">\n",
       "      <th></th>\n",
       "      <th>ElasticNet (alpha=0.01, eta=0.5) Feature Coefficients</th>\n",
       "    </tr>\n",
       "  </thead>\n",
       "  <tbody>\n",
       "    <tr>\n",
       "      <th>Oda_Sayısı</th>\n",
       "      <td>110.067352</td>\n",
       "    </tr>\n",
       "    <tr>\n",
       "      <th>Net_m2</th>\n",
       "      <td>1.403373</td>\n",
       "    </tr>\n",
       "    <tr>\n",
       "      <th>Katı</th>\n",
       "      <td>7.126647</td>\n",
       "    </tr>\n",
       "    <tr>\n",
       "      <th>Yaşı</th>\n",
       "      <td>-4.328035</td>\n",
       "    </tr>\n",
       "  </tbody>\n",
       "</table>\n",
       "</div>"
      ],
      "text/plain": [
       "            ElasticNet (alpha=0.01, eta=0.5) Feature Coefficients\n",
       "Oda_Sayısı                                         110.067352    \n",
       "Net_m2                                               1.403373    \n",
       "Katı                                                 7.126647    \n",
       "Yaşı                                                -4.328035    "
      ]
     },
     "execution_count": 25,
     "metadata": {},
     "output_type": "execute_result"
    }
   ],
   "source": [
    "# Elde edilen en iyi modelin eğim parametrelerini elde etme:\n",
    "coefficient_df = pd.DataFrame(elasticnet_model_GS.best_estimator_.coef_, X.columns, columns=[\"ElasticNet (alpha=0.01, eta=0.5) Feature Coefficients\"])\n",
    "coefficient_df"
   ]
  },
  {
   "cell_type": "code",
   "execution_count": 26,
   "id": "a1f58c1c",
   "metadata": {},
   "outputs": [
    {
     "name": "stdout",
     "output_type": "stream",
     "text": [
      "R2 for ElasticNet regression model over train set: 0.7333501064823666\n",
      "R2 for ElasticNet regression model over test set: 0.6923107858960038\n"
     ]
    }
   ],
   "source": [
    "# En iyi ElasticNet regresyon modelinin R2 ölçütünü hesaplama (eğitim veri setinin üzerinden tahmin):\n",
    "print(\"R2 for ElasticNet regression model over train set:\", elasticnet_model_GS.best_estimator_.score(X_train.values, y_train))\n",
    "\n",
    "# En iyi ElasticNet regresyon modelinin R2 ölçütünü hesaplama (test veri setinin üzerinden tahmin):\n",
    "print(\"R2 for ElasticNet regression model over test set:\", elasticnet_model_GS.best_estimator_.score(X_test.values, y_test))"
   ]
  },
  {
   "cell_type": "code",
   "execution_count": 27,
   "id": "c32de1db",
   "metadata": {},
   "outputs": [
    {
     "name": "stdout",
     "output_type": "stream",
     "text": [
      "Predicted price: ₺556.96, Actual price: ₺525.00\n",
      "Predicted price: ₺685.39, Actual price: ₺650.00\n",
      "Predicted price: ₺534.27, Actual price: ₺550.00\n",
      "Predicted price: ₺691.36, Actual price: ₺675.00\n",
      "Predicted price: ₺677.41, Actual price: ₺675.00\n",
      "Predicted price: ₺698.90, Actual price: ₺625.00\n",
      "Predicted price: ₺557.55, Actual price: ₺575.00\n",
      "Predicted price: ₺675.58, Actual price: ₺650.00\n",
      "Predicted price: ₺549.95, Actual price: ₺600.00\n",
      "Predicted price: ₺679.65, Actual price: ₺775.00\n",
      "Predicted price: ₺844.05, Actual price: ₺800.00\n",
      "Predicted price: ₺549.95, Actual price: ₺500.00\n",
      "Predicted price: ₺745.31, Actual price: ₺725.00\n",
      "Predicted price: ₺562.51, Actual price: ₺550.00\n",
      "Predicted price: ₺555.80, Actual price: ₺625.00\n",
      "Predicted price: ₺691.25, Actual price: ₺650.00\n",
      "Predicted price: ₺539.65, Actual price: ₺500.00\n",
      "Predicted price: ₺686.92, Actual price: ₺675.00\n",
      "Predicted price: ₺666.92, Actual price: ₺625.00\n",
      "Predicted price: ₺549.53, Actual price: ₺500.00\n",
      "Predicted price: ₺567.26, Actual price: ₺625.00\n",
      "Predicted price: ₺702.71, Actual price: ₺675.00\n",
      "Predicted price: ₺705.35, Actual price: ₺750.00\n",
      "Predicted price: ₺662.59, Actual price: ₺675.00\n",
      "Predicted price: ₺698.53, Actual price: ₺600.00\n",
      "Predicted price: ₺691.25, Actual price: ₺600.00\n",
      "Predicted price: ₺446.92, Actual price: ₺450.00\n",
      "Predicted price: ₺533.11, Actual price: ₺500.00\n",
      "Predicted price: ₺690.24, Actual price: ₺625.00\n",
      "Predicted price: ₺702.71, Actual price: ₺600.00\n",
      "Predicted price: ₺669.72, Actual price: ₺675.00\n",
      "Predicted price: ₺525.51, Actual price: ₺500.00\n",
      "Predicted price: ₺660.95, Actual price: ₺675.00\n",
      "Predicted price: ₺516.80, Actual price: ₺550.00\n",
      "Predicted price: ₺842.41, Actual price: ₺850.00\n",
      "Predicted price: ₺671.25, Actual price: ₺650.00\n",
      "Predicted price: ₺695.58, Actual price: ₺650.00\n",
      "Predicted price: ₺532.48, Actual price: ₺525.00\n",
      "Predicted price: ₺662.59, Actual price: ₺650.00\n",
      "Predicted price: ₺689.46, Actual price: ₺750.00\n",
      "Predicted price: ₺469.61, Actual price: ₺475.00\n",
      "Predicted price: ₺545.20, Actual price: ₺525.00\n",
      "Predicted price: ₺678.27, Actual price: ₺675.00\n",
      "Predicted price: ₺454.15, Actual price: ₺475.00\n",
      "Predicted price: ₺571.59, Actual price: ₺575.00\n",
      "Predicted price: ₺677.52, Actual price: ₺650.00\n",
      "Predicted price: ₺688.56, Actual price: ₺650.00\n",
      "Predicted price: ₺675.58, Actual price: ₺625.00\n",
      "Predicted price: ₺684.23, Actual price: ₺675.00\n",
      "Predicted price: ₺444.23, Actual price: ₺475.00\n",
      "Predicted price: ₺695.69, Actual price: ₺675.00\n",
      "Predicted price: ₺671.92, Actual price: ₺675.00\n",
      "Predicted price: ₺673.94, Actual price: ₺675.00\n",
      "Predicted price: ₺437.21, Actual price: ₺475.00\n",
      "Predicted price: ₺693.90, Actual price: ₺775.00\n",
      "Predicted price: ₺752.59, Actual price: ₺750.00\n",
      "Predicted price: ₺658.94, Actual price: ₺625.00\n",
      "Predicted price: ₺701.29, Actual price: ₺775.00\n",
      "Predicted price: ₺695.99, Actual price: ₺700.00\n",
      "Predicted price: ₺539.65, Actual price: ₺550.00\n",
      "Predicted price: ₺674.05, Actual price: ₺600.00\n",
      "Predicted price: ₺571.48, Actual price: ₺525.00\n",
      "Predicted price: ₺536.85, Actual price: ₺600.00\n",
      "Predicted price: ₺719.61, Actual price: ₺725.00\n",
      "Predicted price: ₺734.01, Actual price: ₺725.00\n",
      "Predicted price: ₺535.50, Actual price: ₺500.00\n",
      "Predicted price: ₺508.52, Actual price: ₺550.00\n",
      "Predicted price: ₺709.83, Actual price: ₺725.00\n",
      "Predicted price: ₺698.53, Actual price: ₺625.00\n",
      "Predicted price: ₺714.57, Actual price: ₺650.00\n",
      "Predicted price: ₺671.81, Actual price: ₺675.00\n",
      "Predicted price: ₺535.80, Actual price: ₺500.00\n",
      "Predicted price: ₺672.41, Actual price: ₺600.00\n",
      "Predicted price: ₺661.74, Actual price: ₺675.00\n",
      "Predicted price: ₺687.44, Actual price: ₺600.00\n",
      "Predicted price: ₺829.43, Actual price: ₺925.00\n",
      "Predicted price: ₺756.66, Actual price: ₺750.00\n",
      "Predicted price: ₺522.82, Actual price: ₺525.00\n",
      "Predicted price: ₺693.19, Actual price: ₺600.00\n",
      "Predicted price: ₺739.61, Actual price: ₺700.00\n",
      "Predicted price: ₺746.84, Actual price: ₺725.00\n",
      "Predicted price: ₺674.61, Actual price: ₺625.00\n",
      "Predicted price: ₺693.19, Actual price: ₺725.00\n",
      "Predicted price: ₺525.51, Actual price: ₺500.00\n",
      "Predicted price: ₺538.60, Actual price: ₺600.00\n",
      "Predicted price: ₺766.95, Actual price: ₺750.00\n",
      "Predicted price: ₺748.37, Actual price: ₺775.00\n",
      "Predicted price: ₺704.50, Actual price: ₺650.00\n",
      "Predicted price: ₺791.21, Actual price: ₺925.00\n",
      "Predicted price: ₺656.63, Actual price: ₺625.00\n",
      "Predicted price: ₺465.39, Actual price: ₺450.00\n",
      "Predicted price: ₺661.06, Actual price: ₺675.00\n",
      "Predicted price: ₺535.91, Actual price: ₺575.00\n",
      "Predicted price: ₺718.23, Actual price: ₺700.00\n",
      "Predicted price: ₺688.30, Actual price: ₺750.00\n",
      "Predicted price: ₺728.00, Actual price: ₺750.00\n",
      "Predicted price: ₺555.91, Actual price: ₺525.00\n",
      "Predicted price: ₺707.18, Actual price: ₺650.00\n",
      "Predicted price: ₺540.13, Actual price: ₺575.00\n",
      "Predicted price: ₺446.92, Actual price: ₺475.00\n",
      "Predicted price: ₺672.41, Actual price: ₺650.00\n",
      "Predicted price: ₺686.17, Actual price: ₺700.00\n",
      "Predicted price: ₺661.74, Actual price: ₺625.00\n",
      "Predicted price: ₺725.35, Actual price: ₺775.00\n",
      "Predicted price: ₺725.09, Actual price: ₺750.00\n",
      "Predicted price: ₺631.70, Actual price: ₺700.00\n",
      "Predicted price: ₺453.93, Actual price: ₺450.00\n",
      "Predicted price: ₺506.77, Actual price: ₺575.00\n",
      "Predicted price: ₺688.97, Actual price: ₺675.00\n",
      "Predicted price: ₺693.79, Actual price: ₺725.00\n",
      "Predicted price: ₺679.91, Actual price: ₺625.00\n",
      "Predicted price: ₺474.26, Actual price: ₺550.00\n",
      "Predicted price: ₺728.83, Actual price: ₺675.00\n",
      "Predicted price: ₺749.64, Actual price: ₺700.00\n",
      "Predicted price: ₺688.56, Actual price: ₺675.00\n",
      "Predicted price: ₺678.12, Actual price: ₺775.00\n",
      "Predicted price: ₺706.62, Actual price: ₺750.00\n",
      "Predicted price: ₺680.32, Actual price: ₺675.00\n",
      "Predicted price: ₺564.46, Actual price: ₺625.00\n",
      "Predicted price: ₺675.58, Actual price: ₺650.00\n",
      "Predicted price: ₺558.49, Actual price: ₺550.00\n",
      "Predicted price: ₺818.34, Actual price: ₺1175.00\n",
      "Predicted price: ₺671.92, Actual price: ₺700.00\n",
      "Predicted price: ₺524.46, Actual price: ₺625.00\n",
      "Predicted price: ₺670.39, Actual price: ₺600.00\n",
      "Predicted price: ₺543.93, Actual price: ₺500.00\n",
      "Predicted price: ₺540.24, Actual price: ₺550.00\n",
      "Predicted price: ₺716.70, Actual price: ₺700.00\n",
      "Predicted price: ₺834.13, Actual price: ₺975.00\n",
      "Predicted price: ₺673.94, Actual price: ₺600.00\n",
      "Predicted price: ₺562.93, Actual price: ₺500.00\n",
      "Predicted price: ₺685.13, Actual price: ₺750.00\n",
      "Predicted price: ₺715.28, Actual price: ₺775.00\n",
      "Predicted price: ₺462.59, Actual price: ₺475.00\n",
      "Predicted price: ₺558.60, Actual price: ₺575.00\n",
      "Predicted price: ₺711.10, Actual price: ₺700.00\n",
      "Predicted price: ₺694.05, Actual price: ₺675.00\n",
      "Predicted price: ₺685.24, Actual price: ₺750.00\n",
      "Predicted price: ₺668.08, Actual price: ₺600.00\n",
      "Predicted price: ₺662.59, Actual price: ₺600.00\n",
      "Predicted price: ₺653.94, Actual price: ₺600.00\n",
      "Predicted price: ₺653.34, Actual price: ₺725.00\n",
      "Predicted price: ₺658.94, Actual price: ₺675.00\n",
      "Predicted price: ₺688.56, Actual price: ₺650.00\n",
      "Predicted price: ₺873.87, Actual price: ₺950.00\n",
      "Predicted price: ₺525.57, Actual price: ₺550.00\n",
      "Predicted price: ₺680.21, Actual price: ₺675.00\n",
      "Predicted price: ₺673.94, Actual price: ₺625.00\n",
      "Predicted price: ₺518.55, Actual price: ₺550.00\n",
      "Predicted price: ₺666.06, Actual price: ₺625.00\n",
      "Predicted price: ₺685.50, Actual price: ₺750.00\n",
      "Predicted price: ₺672.41, Actual price: ₺650.00\n"
     ]
    }
   ],
   "source": [
    "# Eğitim veri seti tahmini veya örneklem-içi tahmin (in-sample prediction):\n",
    "# Eğitim setindeki tüm değerler için eğitilen en iyi modeli kullanarak fiyat tahmini yapma:\n",
    "y_train_predicted = elasticnet_model_GS.best_estimator_.predict(X_train.values)\n",
    "y_train_predicted = pd.Series(y_train_predicted, index=y_train.index)\n",
    "for i, prediction in enumerate(y_train_predicted):\n",
    "    print(\"Predicted price: ₺%.2f, Actual price: ₺%.2f\" % (prediction, y_train[y_train.index[i]]))"
   ]
  },
  {
   "cell_type": "code",
   "execution_count": 28,
   "id": "0a9e2674",
   "metadata": {},
   "outputs": [
    {
     "data": {
      "image/png": "[encoded data removed]",
      "text/plain": [
       "<Figure size 1000x600 with 1 Axes>"
      ]
     },
     "metadata": {},
     "output_type": "display_data"
    }
   ],
   "source": [
    "# Eğitim setindeki evlerin gerçek değerleri ve model ile tahmin edilmiş fiyatlarının karşılaştırılması:\n",
    "plt.figure(figsize=(10, 6))\n",
    "plt.xticks(y_train, y_train.index.values)\n",
    "plt.plot(y_train, \"g^\")\n",
    "plt.xticks(y_train_predicted, y_train_predicted.index.values)\n",
    "plt.plot(y_train_predicted, \"ro\")\n",
    "plt.title(\"ElasticNet Regression\")\n",
    "plt.xlabel(\"Houses for Sale\", fontsize=15)\n",
    "plt.ylabel(\"Predicted Prices/Actual Prices\", fontsize=15)\n",
    "plt.legend([\"Actual Value\", \"Predicted Value\"], fontsize=13, loc=\"lower right\")\n",
    "plt.show()"
   ]
  },
  {
   "cell_type": "code",
   "execution_count": 29,
   "id": "cc915ceb",
   "metadata": {},
   "outputs": [
    {
     "name": "stdout",
     "output_type": "stream",
     "text": [
      "The predicted price of the desired apartment: ₺768.42\n"
     ]
    }
   ],
   "source": [
    "# 3 odalı, 8 yıllık bir binanın 4.katında bulunan net 105 m^2 kullanım alanına sahip bir dairenin fiyatını tahmin etme:\n",
    "room_number = 3\n",
    "net_m2 = 105\n",
    "floor = 4\n",
    "age = 8\n",
    "test_apartment = np.array([[room_number, net_m2, floor, age]])\n",
    "predicted_price = elasticnet_model_GS.best_estimator_.predict(test_apartment)[0]\n",
    "print(\"The predicted price of the desired apartment: ₺%.2f\" % predicted_price)"
   ]
  }
 ],
 "metadata": {
  "kernelspec": {
   "display_name": "Python 3 (ipykernel)",
   "language": "python",
   "name": "python3"
  },
  "language_info": {
   "codemirror_mode": {
    "name": "ipython",
    "version": 3
   },
   "file_extension": ".py",
   "mimetype": "text/x-python",
   "name": "python",
   "nbconvert_exporter": "python",
   "pygments_lexer": "ipython3",
   "version": "3.11.5"
  }
 },
 "nbformat": 4,
 "nbformat_minor": 5
}
